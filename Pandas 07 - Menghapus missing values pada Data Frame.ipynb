{
 "cells": [
  {
   "cell_type": "markdown",
   "metadata": {},
   "source": [
    "# 07 - Menghapus (Drop) Missing Values (NaN) pada Data Frame"
   ]
  },
  {
   "cell_type": "markdown",
   "metadata": {},
   "source": [
    "#Import Modules\n",
    "\n",
    "Module yang digunakan :\n",
    "1. pandas"
   ]
  },
  {
   "cell_type": "code",
   "execution_count": 4,
   "metadata": {},
   "outputs": [],
   "source": [
    "import pandas as pd"
   ]
  },
  {
   "cell_type": "markdown",
   "metadata": {},
   "source": [
    "-Mengecheck versi dari module yang digunakan yaitu pandas."
   ]
  },
  {
   "cell_type": "code",
   "execution_count": 5,
   "metadata": {},
   "outputs": [
    {
     "name": "stdout",
     "output_type": "stream",
     "text": [
      "1.0.5\n"
     ]
    }
   ],
   "source": [
    "print(pd.__version__)"
   ]
  },
  {
   "cell_type": "markdown",
   "metadata": {},
   "source": [
    "#Membuat Sebuah Data Frame yang Mengandung Missing Value\n",
    "\n",
    "Untuk membuat sebuah data frame yang mengandung missing value, kita dapat memanfaatkan sebuah module yaitu pd.util.testing.makeMissingDataframe()\n",
    "\n",
    "Method reset_index() digunakan untuk membentuk index baru. Index lamanya akan diadopsi sebagai sebuah kolom biasa.\n",
    "\n",
    "Function df.head() akan menampilkan hanya 5 data pertama."
   ]
  },
  {
   "cell_type": "code",
   "execution_count": 7,
   "metadata": {},
   "outputs": [
    {
     "data": {
      "text/html": [
       "<div>\n",
       "<style scoped>\n",
       "    .dataframe tbody tr th:only-of-type {\n",
       "        vertical-align: middle;\n",
       "    }\n",
       "\n",
       "    .dataframe tbody tr th {\n",
       "        vertical-align: top;\n",
       "    }\n",
       "\n",
       "    .dataframe thead th {\n",
       "        text-align: right;\n",
       "    }\n",
       "</style>\n",
       "<table border=\"1\" class=\"dataframe\">\n",
       "  <thead>\n",
       "    <tr style=\"text-align: right;\">\n",
       "      <th></th>\n",
       "      <th>index</th>\n",
       "      <th>A</th>\n",
       "      <th>B</th>\n",
       "      <th>C</th>\n",
       "      <th>D</th>\n",
       "    </tr>\n",
       "  </thead>\n",
       "  <tbody>\n",
       "    <tr>\n",
       "      <th>0</th>\n",
       "      <td>VqdFqJJKcl</td>\n",
       "      <td>0.214455</td>\n",
       "      <td>0.745563</td>\n",
       "      <td>-0.978455</td>\n",
       "      <td>NaN</td>\n",
       "    </tr>\n",
       "    <tr>\n",
       "      <th>1</th>\n",
       "      <td>DNoOge3A0C</td>\n",
       "      <td>1.199947</td>\n",
       "      <td>-0.737349</td>\n",
       "      <td>-0.355766</td>\n",
       "      <td>-0.668721</td>\n",
       "    </tr>\n",
       "    <tr>\n",
       "      <th>2</th>\n",
       "      <td>bbegMhOTAH</td>\n",
       "      <td>-0.625352</td>\n",
       "      <td>0.014845</td>\n",
       "      <td>-0.135729</td>\n",
       "      <td>-1.115592</td>\n",
       "    </tr>\n",
       "    <tr>\n",
       "      <th>3</th>\n",
       "      <td>bQlwhJtV79</td>\n",
       "      <td>-1.218203</td>\n",
       "      <td>-1.133929</td>\n",
       "      <td>0.689997</td>\n",
       "      <td>0.162705</td>\n",
       "    </tr>\n",
       "    <tr>\n",
       "      <th>4</th>\n",
       "      <td>12vbLuQOSk</td>\n",
       "      <td>0.247658</td>\n",
       "      <td>-0.633692</td>\n",
       "      <td>1.403529</td>\n",
       "      <td>0.171691</td>\n",
       "    </tr>\n",
       "  </tbody>\n",
       "</table>\n",
       "</div>"
      ],
      "text/plain": [
       "        index         A         B         C         D\n",
       "0  VqdFqJJKcl  0.214455  0.745563 -0.978455       NaN\n",
       "1  DNoOge3A0C  1.199947 -0.737349 -0.355766 -0.668721\n",
       "2  bbegMhOTAH -0.625352  0.014845 -0.135729 -1.115592\n",
       "3  bQlwhJtV79 -1.218203 -1.133929  0.689997  0.162705\n",
       "4  12vbLuQOSk  0.247658 -0.633692  1.403529  0.171691"
      ]
     },
     "execution_count": 7,
     "metadata": {},
     "output_type": "execute_result"
    }
   ],
   "source": [
    "df = pd.util.testing.makeMissingDataframe().reset_index()\n",
    "df.head()"
   ]
  },
  {
   "cell_type": "markdown",
   "metadata": {},
   "source": [
    "#Mengubah nama kolom 'index' menjadi 'Z'\n",
    "\n",
    "Untuk mengubah nama kolom, kita dapat menggunakan function rename() dengan parameter berupa columns yang berisikan dictionary."
   ]
  },
  {
   "cell_type": "code",
   "execution_count": 8,
   "metadata": {
    "scrolled": true
   },
   "outputs": [
    {
     "data": {
      "text/html": [
       "<div>\n",
       "<style scoped>\n",
       "    .dataframe tbody tr th:only-of-type {\n",
       "        vertical-align: middle;\n",
       "    }\n",
       "\n",
       "    .dataframe tbody tr th {\n",
       "        vertical-align: top;\n",
       "    }\n",
       "\n",
       "    .dataframe thead th {\n",
       "        text-align: right;\n",
       "    }\n",
       "</style>\n",
       "<table border=\"1\" class=\"dataframe\">\n",
       "  <thead>\n",
       "    <tr style=\"text-align: right;\">\n",
       "      <th></th>\n",
       "      <th>Z</th>\n",
       "      <th>A</th>\n",
       "      <th>B</th>\n",
       "      <th>C</th>\n",
       "      <th>D</th>\n",
       "    </tr>\n",
       "  </thead>\n",
       "  <tbody>\n",
       "    <tr>\n",
       "      <th>0</th>\n",
       "      <td>VqdFqJJKcl</td>\n",
       "      <td>0.214455</td>\n",
       "      <td>0.745563</td>\n",
       "      <td>-0.978455</td>\n",
       "      <td>NaN</td>\n",
       "    </tr>\n",
       "    <tr>\n",
       "      <th>1</th>\n",
       "      <td>DNoOge3A0C</td>\n",
       "      <td>1.199947</td>\n",
       "      <td>-0.737349</td>\n",
       "      <td>-0.355766</td>\n",
       "      <td>-0.668721</td>\n",
       "    </tr>\n",
       "    <tr>\n",
       "      <th>2</th>\n",
       "      <td>bbegMhOTAH</td>\n",
       "      <td>-0.625352</td>\n",
       "      <td>0.014845</td>\n",
       "      <td>-0.135729</td>\n",
       "      <td>-1.115592</td>\n",
       "    </tr>\n",
       "    <tr>\n",
       "      <th>3</th>\n",
       "      <td>bQlwhJtV79</td>\n",
       "      <td>-1.218203</td>\n",
       "      <td>-1.133929</td>\n",
       "      <td>0.689997</td>\n",
       "      <td>0.162705</td>\n",
       "    </tr>\n",
       "    <tr>\n",
       "      <th>4</th>\n",
       "      <td>12vbLuQOSk</td>\n",
       "      <td>0.247658</td>\n",
       "      <td>-0.633692</td>\n",
       "      <td>1.403529</td>\n",
       "      <td>0.171691</td>\n",
       "    </tr>\n",
       "  </tbody>\n",
       "</table>\n",
       "</div>"
      ],
      "text/plain": [
       "            Z         A         B         C         D\n",
       "0  VqdFqJJKcl  0.214455  0.745563 -0.978455       NaN\n",
       "1  DNoOge3A0C  1.199947 -0.737349 -0.355766 -0.668721\n",
       "2  bbegMhOTAH -0.625352  0.014845 -0.135729 -1.115592\n",
       "3  bQlwhJtV79 -1.218203 -1.133929  0.689997  0.162705\n",
       "4  12vbLuQOSk  0.247658 -0.633692  1.403529  0.171691"
      ]
     },
     "execution_count": 8,
     "metadata": {},
     "output_type": "execute_result"
    }
   ],
   "source": [
    "df = df.rename(columns={'index':'Z'})\n",
    "df.head()"
   ]
  },
  {
   "cell_type": "markdown",
   "metadata": {},
   "source": [
    "#Membuat copy dari data frame\n",
    "\n",
    "Berikut ini kita akan melakukan copy dari data frame dan hasil copynya akan disimpan di variabel df_backup. Proses pengcopyan yang dilakukan adalah deep copy dengan parameternya yang bernilai True."
   ]
  },
  {
   "cell_type": "code",
   "execution_count": 9,
   "metadata": {},
   "outputs": [],
   "source": [
    "df_backup = df.copy(deep=True)"
   ]
  },
  {
   "cell_type": "markdown",
   "metadata": {},
   "source": [
    "#Menghapus (Drop) Setiap Kolom yang Mengandung Missing Values.\n",
    "\n",
    "Jika terdapat missing values pada suatu kolom, kolom tersebut akan dihapus.\n",
    "\n",
    "Untuk menghapus kolom yang mengandung missing values, kita dapat memanggil df.dropna(axis='columns')."
   ]
  },
  {
   "cell_type": "code",
   "execution_count": 10,
   "metadata": {},
   "outputs": [
    {
     "data": {
      "text/html": [
       "<div>\n",
       "<style scoped>\n",
       "    .dataframe tbody tr th:only-of-type {\n",
       "        vertical-align: middle;\n",
       "    }\n",
       "\n",
       "    .dataframe tbody tr th {\n",
       "        vertical-align: top;\n",
       "    }\n",
       "\n",
       "    .dataframe thead th {\n",
       "        text-align: right;\n",
       "    }\n",
       "</style>\n",
       "<table border=\"1\" class=\"dataframe\">\n",
       "  <thead>\n",
       "    <tr style=\"text-align: right;\">\n",
       "      <th></th>\n",
       "      <th>Z</th>\n",
       "    </tr>\n",
       "  </thead>\n",
       "  <tbody>\n",
       "    <tr>\n",
       "      <th>0</th>\n",
       "      <td>VqdFqJJKcl</td>\n",
       "    </tr>\n",
       "    <tr>\n",
       "      <th>1</th>\n",
       "      <td>DNoOge3A0C</td>\n",
       "    </tr>\n",
       "    <tr>\n",
       "      <th>2</th>\n",
       "      <td>bbegMhOTAH</td>\n",
       "    </tr>\n",
       "    <tr>\n",
       "      <th>3</th>\n",
       "      <td>bQlwhJtV79</td>\n",
       "    </tr>\n",
       "    <tr>\n",
       "      <th>4</th>\n",
       "      <td>12vbLuQOSk</td>\n",
       "    </tr>\n",
       "  </tbody>\n",
       "</table>\n",
       "</div>"
      ],
      "text/plain": [
       "            Z\n",
       "0  VqdFqJJKcl\n",
       "1  DNoOge3A0C\n",
       "2  bbegMhOTAH\n",
       "3  bQlwhJtV79\n",
       "4  12vbLuQOSk"
      ]
     },
     "execution_count": 10,
     "metadata": {},
     "output_type": "execute_result"
    }
   ],
   "source": [
    "df = df.dropna(axis='columns') \n",
    "df.head()"
   ]
  },
  {
   "cell_type": "markdown",
   "metadata": {},
   "source": [
    "#Menghapus (Drop) Setiap Baris yang Mengandung Missing Values.\n",
    "\n",
    "Jika terdapat missing values pada suatu baris, baris tersebut akan dihapus.\n",
    "\n",
    "Sebelumnya kita perlu untuk mengembalikan kondisi data frame, dengan memanggil df_backup.copy(deep=True).\n",
    "\n",
    "Untuk menghapus baris yang mengandung missing values, kita dapat memanggil df.dropna(axis='rows')."
   ]
  },
  {
   "cell_type": "code",
   "execution_count": 11,
   "metadata": {},
   "outputs": [
    {
     "data": {
      "text/html": [
       "<div>\n",
       "<style scoped>\n",
       "    .dataframe tbody tr th:only-of-type {\n",
       "        vertical-align: middle;\n",
       "    }\n",
       "\n",
       "    .dataframe tbody tr th {\n",
       "        vertical-align: top;\n",
       "    }\n",
       "\n",
       "    .dataframe thead th {\n",
       "        text-align: right;\n",
       "    }\n",
       "</style>\n",
       "<table border=\"1\" class=\"dataframe\">\n",
       "  <thead>\n",
       "    <tr style=\"text-align: right;\">\n",
       "      <th></th>\n",
       "      <th>Z</th>\n",
       "      <th>A</th>\n",
       "      <th>B</th>\n",
       "      <th>C</th>\n",
       "      <th>D</th>\n",
       "    </tr>\n",
       "  </thead>\n",
       "  <tbody>\n",
       "    <tr>\n",
       "      <th>1</th>\n",
       "      <td>DNoOge3A0C</td>\n",
       "      <td>1.199947</td>\n",
       "      <td>-0.737349</td>\n",
       "      <td>-0.355766</td>\n",
       "      <td>-0.668721</td>\n",
       "    </tr>\n",
       "    <tr>\n",
       "      <th>2</th>\n",
       "      <td>bbegMhOTAH</td>\n",
       "      <td>-0.625352</td>\n",
       "      <td>0.014845</td>\n",
       "      <td>-0.135729</td>\n",
       "      <td>-1.115592</td>\n",
       "    </tr>\n",
       "    <tr>\n",
       "      <th>3</th>\n",
       "      <td>bQlwhJtV79</td>\n",
       "      <td>-1.218203</td>\n",
       "      <td>-1.133929</td>\n",
       "      <td>0.689997</td>\n",
       "      <td>0.162705</td>\n",
       "    </tr>\n",
       "    <tr>\n",
       "      <th>4</th>\n",
       "      <td>12vbLuQOSk</td>\n",
       "      <td>0.247658</td>\n",
       "      <td>-0.633692</td>\n",
       "      <td>1.403529</td>\n",
       "      <td>0.171691</td>\n",
       "    </tr>\n",
       "    <tr>\n",
       "      <th>5</th>\n",
       "      <td>vQ1AaO6hvr</td>\n",
       "      <td>0.358647</td>\n",
       "      <td>1.251047</td>\n",
       "      <td>-0.303468</td>\n",
       "      <td>0.369762</td>\n",
       "    </tr>\n",
       "  </tbody>\n",
       "</table>\n",
       "</div>"
      ],
      "text/plain": [
       "            Z         A         B         C         D\n",
       "1  DNoOge3A0C  1.199947 -0.737349 -0.355766 -0.668721\n",
       "2  bbegMhOTAH -0.625352  0.014845 -0.135729 -1.115592\n",
       "3  bQlwhJtV79 -1.218203 -1.133929  0.689997  0.162705\n",
       "4  12vbLuQOSk  0.247658 -0.633692  1.403529  0.171691\n",
       "5  vQ1AaO6hvr  0.358647  1.251047 -0.303468  0.369762"
      ]
     },
     "execution_count": 11,
     "metadata": {},
     "output_type": "execute_result"
    }
   ],
   "source": [
    "df = df_backup.copy(deep=True)\n",
    "df = df.dropna(axis='rows')\n",
    "df.head()"
   ]
  },
  {
   "cell_type": "markdown",
   "metadata": {},
   "source": [
    "#Melihat Persentase Missing Values untuk Setiap Kolom\n",
    "\n",
    "-Mengembalikan data frame ke bentuk awal dengan cara mengambil copy dari df_backup\n",
    "\n",
    "-df.isna() akan mengumpulkan semua missing values untuk setiap kolom\n",
    "\n",
    "-.mean() akan mengkalkulasi rata-rata/persentase dari missing values yang dimiliki oleh setiap kolom"
   ]
  },
  {
   "cell_type": "code",
   "execution_count": 12,
   "metadata": {},
   "outputs": [
    {
     "data": {
      "text/plain": [
       "Z    0.000000\n",
       "A    0.066667\n",
       "B    0.133333\n",
       "C    0.100000\n",
       "D    0.100000\n",
       "dtype: float64"
      ]
     },
     "execution_count": 12,
     "metadata": {},
     "output_type": "execute_result"
    }
   ],
   "source": [
    "df = df_backup.copy(deep=True)\n",
    "df.isna().mean()"
   ]
  },
  {
   "cell_type": "markdown",
   "metadata": {},
   "source": [
    "#Menghapus (drop) setiap kolom yang mengandung missing values berdasarkan threshold tertentu.\n",
    "\n",
    "-Kita bisa menghapus setiap kolom yang mengandung missing values dengan persentase tertentu dengan menggunakan treshold (ambang batas).\n",
    "\n",
    "-Misalnya, kita ingin menghapus setiap kolom yang persentase data non missing valuesnya setidaknya mencapai 90%.\n",
    "\n",
    "-len(df) berfungsi untuk mencari jumlah rows yang dimiliki.\n",
    "\n",
    "-df.dropna(thresh=treshold, axis ='columns'), digunakan untuk melakukan proses dropping dengan parameter tresh yang bernilai treshold dan parameter axisnya columns.\n",
    "\n",
    "-Kita akan melakukan proses dropping berdasarkan columns dengan acuan treshold."
   ]
  },
  {
   "cell_type": "code",
   "execution_count": 14,
   "metadata": {},
   "outputs": [
    {
     "data": {
      "text/html": [
       "<div>\n",
       "<style scoped>\n",
       "    .dataframe tbody tr th:only-of-type {\n",
       "        vertical-align: middle;\n",
       "    }\n",
       "\n",
       "    .dataframe tbody tr th {\n",
       "        vertical-align: top;\n",
       "    }\n",
       "\n",
       "    .dataframe thead th {\n",
       "        text-align: right;\n",
       "    }\n",
       "</style>\n",
       "<table border=\"1\" class=\"dataframe\">\n",
       "  <thead>\n",
       "    <tr style=\"text-align: right;\">\n",
       "      <th></th>\n",
       "      <th>Z</th>\n",
       "      <th>A</th>\n",
       "      <th>C</th>\n",
       "      <th>D</th>\n",
       "    </tr>\n",
       "  </thead>\n",
       "  <tbody>\n",
       "    <tr>\n",
       "      <th>0</th>\n",
       "      <td>VqdFqJJKcl</td>\n",
       "      <td>0.214455</td>\n",
       "      <td>-0.978455</td>\n",
       "      <td>NaN</td>\n",
       "    </tr>\n",
       "    <tr>\n",
       "      <th>1</th>\n",
       "      <td>DNoOge3A0C</td>\n",
       "      <td>1.199947</td>\n",
       "      <td>-0.355766</td>\n",
       "      <td>-0.668721</td>\n",
       "    </tr>\n",
       "    <tr>\n",
       "      <th>2</th>\n",
       "      <td>bbegMhOTAH</td>\n",
       "      <td>-0.625352</td>\n",
       "      <td>-0.135729</td>\n",
       "      <td>-1.115592</td>\n",
       "    </tr>\n",
       "    <tr>\n",
       "      <th>3</th>\n",
       "      <td>bQlwhJtV79</td>\n",
       "      <td>-1.218203</td>\n",
       "      <td>0.689997</td>\n",
       "      <td>0.162705</td>\n",
       "    </tr>\n",
       "    <tr>\n",
       "      <th>4</th>\n",
       "      <td>12vbLuQOSk</td>\n",
       "      <td>0.247658</td>\n",
       "      <td>1.403529</td>\n",
       "      <td>0.171691</td>\n",
       "    </tr>\n",
       "  </tbody>\n",
       "</table>\n",
       "</div>"
      ],
      "text/plain": [
       "            Z         A         C         D\n",
       "0  VqdFqJJKcl  0.214455 -0.978455       NaN\n",
       "1  DNoOge3A0C  1.199947 -0.355766 -0.668721\n",
       "2  bbegMhOTAH -0.625352 -0.135729 -1.115592\n",
       "3  bQlwhJtV79 -1.218203  0.689997  0.162705\n",
       "4  12vbLuQOSk  0.247658  1.403529  0.171691"
      ]
     },
     "execution_count": 14,
     "metadata": {},
     "output_type": "execute_result"
    }
   ],
   "source": [
    "treshold = len(df) * 0.9\n",
    "df = df.dropna(thresh=treshold, axis ='columns')\n",
    "df.head()"
   ]
  }
 ],
 "metadata": {
  "kernelspec": {
   "display_name": "Python 3",
   "language": "python",
   "name": "python3"
  },
  "language_info": {
   "codemirror_mode": {
    "name": "ipython",
    "version": 3
   },
   "file_extension": ".py",
   "mimetype": "text/x-python",
   "name": "python",
   "nbconvert_exporter": "python",
   "pygments_lexer": "ipython3",
   "version": "3.8.3"
  }
 },
 "nbformat": 4,
 "nbformat_minor": 4
}
