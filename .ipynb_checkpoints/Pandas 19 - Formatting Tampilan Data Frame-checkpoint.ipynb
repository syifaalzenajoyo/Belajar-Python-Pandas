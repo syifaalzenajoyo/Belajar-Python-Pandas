{
 "cells": [
  {
   "cell_type": "markdown",
   "metadata": {},
   "source": [
    "# 19 - Formatting Tampilan Data Frame"
   ]
  },
  {
   "cell_type": "markdown",
   "metadata": {},
   "source": [
    "## Import Modules\n",
    "\n",
    "### Module yang digunakan :\n",
    "1. pandas\n",
    "2. numpy"
   ]
  },
  {
   "cell_type": "code",
   "execution_count": 3,
   "metadata": {},
   "outputs": [],
   "source": [
    "import pandas as pd\n",
    "import numpy as np"
   ]
  },
  {
   "cell_type": "markdown",
   "metadata": {},
   "source": [
    "- Mengecheck versi dari 2 module yang digunakan (pandas dan numpy)"
   ]
  },
  {
   "cell_type": "code",
   "execution_count": 4,
   "metadata": {},
   "outputs": [
    {
     "name": "stdout",
     "output_type": "stream",
     "text": [
      "1.0.5\n",
      "1.18.5\n"
     ]
    }
   ],
   "source": [
    "print(pd.__version__)\n",
    "print(np.__version__)"
   ]
  },
  {
   "cell_type": "markdown",
   "metadata": {},
   "source": [
    "## Membentuk Data Frame"
   ]
  },
  {
   "cell_type": "markdown",
   "metadata": {},
   "source": [
    "- Data frame yang akan dibuat memiliki 5 baris, 2 kolom, serta untuk setiap kolomnya diberi nama 'omset' dan 'operasional'.\n",
    "\n",
    "> df = pd.DataFrame(np.random.randint(1, 20, size=(n_rows, n_cols)), columns = cols)\n",
    "- *pd.DataFrame()* digunakan untuk membuat sebuah objek data frame\n",
    "- *np.random.randint(1, 20, size=(n_rows, n_cols)), columns=cols)* artinya data frame akan diisi oleh bilangan integer dengan jangkauan 1-20 (1, 2, 3, ..., 19) yang dipilih secara random. Kemudian, untuk size yang digunakan ditentukan oleh n_rows dan n_cols."
   ]
  },
  {
   "cell_type": "code",
   "execution_count": 5,
   "metadata": {},
   "outputs": [
    {
     "data": {
      "text/html": [
       "<div>\n",
       "<style scoped>\n",
       "    .dataframe tbody tr th:only-of-type {\n",
       "        vertical-align: middle;\n",
       "    }\n",
       "\n",
       "    .dataframe tbody tr th {\n",
       "        vertical-align: top;\n",
       "    }\n",
       "\n",
       "    .dataframe thead th {\n",
       "        text-align: right;\n",
       "    }\n",
       "</style>\n",
       "<table border=\"1\" class=\"dataframe\">\n",
       "  <thead>\n",
       "    <tr style=\"text-align: right;\">\n",
       "      <th></th>\n",
       "      <th>omset</th>\n",
       "      <th>operasional</th>\n",
       "    </tr>\n",
       "  </thead>\n",
       "  <tbody>\n",
       "    <tr>\n",
       "      <th>0</th>\n",
       "      <td>13</td>\n",
       "      <td>3</td>\n",
       "    </tr>\n",
       "    <tr>\n",
       "      <th>1</th>\n",
       "      <td>3</td>\n",
       "      <td>19</td>\n",
       "    </tr>\n",
       "    <tr>\n",
       "      <th>2</th>\n",
       "      <td>4</td>\n",
       "      <td>15</td>\n",
       "    </tr>\n",
       "    <tr>\n",
       "      <th>3</th>\n",
       "      <td>18</td>\n",
       "      <td>10</td>\n",
       "    </tr>\n",
       "    <tr>\n",
       "      <th>4</th>\n",
       "      <td>10</td>\n",
       "      <td>18</td>\n",
       "    </tr>\n",
       "  </tbody>\n",
       "</table>\n",
       "</div>"
      ],
      "text/plain": [
       "   omset  operasional\n",
       "0     13            3\n",
       "1      3           19\n",
       "2      4           15\n",
       "3     18           10\n",
       "4     10           18"
      ]
     },
     "execution_count": 5,
     "metadata": {},
     "output_type": "execute_result"
    }
   ],
   "source": [
    "n_rows = 5\n",
    "n_cols = 2\n",
    "cols = ['omset', 'operasional']\n",
    "\n",
    "df = pd.DataFrame(np.random.randint(1, 20, size=(n_rows, n_cols)), \n",
    "                  columns=cols)\n",
    "df"
   ]
  },
  {
   "cell_type": "markdown",
   "metadata": {},
   "source": [
    "- Untuk mengonversikan omset ke dalam satuan seratus ribuan, kita dapat mengalikan *df['omset']* dengan 100_000.\n",
    "- Untuk mengonversikan operasional ke dalam satuan sepuluh ribuan, kita dapat mengalikan *df['operasional']* dengan 10_000.\n",
    "\n",
    "#### Note:\n",
    "Underscore (_) pada 100_000 dan 10_000 merupakan ignore character yang dapat kita gunakan sebagai digital placeholder"
   ]
  },
  {
   "cell_type": "code",
   "execution_count": 6,
   "metadata": {},
   "outputs": [
    {
     "data": {
      "text/html": [
       "<div>\n",
       "<style scoped>\n",
       "    .dataframe tbody tr th:only-of-type {\n",
       "        vertical-align: middle;\n",
       "    }\n",
       "\n",
       "    .dataframe tbody tr th {\n",
       "        vertical-align: top;\n",
       "    }\n",
       "\n",
       "    .dataframe thead th {\n",
       "        text-align: right;\n",
       "    }\n",
       "</style>\n",
       "<table border=\"1\" class=\"dataframe\">\n",
       "  <thead>\n",
       "    <tr style=\"text-align: right;\">\n",
       "      <th></th>\n",
       "      <th>omset</th>\n",
       "      <th>operasional</th>\n",
       "    </tr>\n",
       "  </thead>\n",
       "  <tbody>\n",
       "    <tr>\n",
       "      <th>0</th>\n",
       "      <td>1300000</td>\n",
       "      <td>30000</td>\n",
       "    </tr>\n",
       "    <tr>\n",
       "      <th>1</th>\n",
       "      <td>300000</td>\n",
       "      <td>190000</td>\n",
       "    </tr>\n",
       "    <tr>\n",
       "      <th>2</th>\n",
       "      <td>400000</td>\n",
       "      <td>150000</td>\n",
       "    </tr>\n",
       "    <tr>\n",
       "      <th>3</th>\n",
       "      <td>1800000</td>\n",
       "      <td>100000</td>\n",
       "    </tr>\n",
       "    <tr>\n",
       "      <th>4</th>\n",
       "      <td>1000000</td>\n",
       "      <td>180000</td>\n",
       "    </tr>\n",
       "  </tbody>\n",
       "</table>\n",
       "</div>"
      ],
      "text/plain": [
       "     omset  operasional\n",
       "0  1300000        30000\n",
       "1   300000       190000\n",
       "2   400000       150000\n",
       "3  1800000       100000\n",
       "4  1000000       180000"
      ]
     },
     "execution_count": 6,
     "metadata": {},
     "output_type": "execute_result"
    }
   ],
   "source": [
    "df['omset'] = df['omset'] * 100_000\n",
    "df['operasional'] = df['operasional'] * 10_000\n",
    "df"
   ]
  },
  {
   "cell_type": "markdown",
   "metadata": {},
   "source": [
    "- Membentuk sebuah kolom baru, kolom tanggal.\n",
    "    - Membentuk index berupa date time yang akan ditampung oleh *df.index*\n",
    "    > df.index = pd.util.testing.makeDateIndex(n_rows, freq='D')\n",
    "        - jumlah barisnya sebanyak n_rows dan frekuensinya daily\n",
    "        \n",
    "    - Melakukan reset index untuk menjadikan index saat ini yaitu index date time untuk menjadi sebuah kolom biasa\n",
    "    > df = df.reset_index()\n",
    "    \n",
    "    - Melakukan rename kolom dari 'index' menjadi 'tanggal'\n",
    "    > df = df.rename(columns={'index':'tanggal'})"
   ]
  },
  {
   "cell_type": "code",
   "execution_count": 5,
   "metadata": {},
   "outputs": [
    {
     "name": "stderr",
     "output_type": "stream",
     "text": [
      "C:\\Users\\ASUS\\anaconda3\\lib\\site-packages\\pandas\\util\\__init__.py:12: FutureWarning: pandas.util.testing is deprecated. Use the functions in the public API at pandas.testing instead.\n",
      "  import pandas.util.testing\n"
     ]
    },
    {
     "data": {
      "text/html": [
       "<div>\n",
       "<style scoped>\n",
       "    .dataframe tbody tr th:only-of-type {\n",
       "        vertical-align: middle;\n",
       "    }\n",
       "\n",
       "    .dataframe tbody tr th {\n",
       "        vertical-align: top;\n",
       "    }\n",
       "\n",
       "    .dataframe thead th {\n",
       "        text-align: right;\n",
       "    }\n",
       "</style>\n",
       "<table border=\"1\" class=\"dataframe\">\n",
       "  <thead>\n",
       "    <tr style=\"text-align: right;\">\n",
       "      <th></th>\n",
       "      <th>tanggal</th>\n",
       "      <th>omset</th>\n",
       "      <th>operasional</th>\n",
       "    </tr>\n",
       "  </thead>\n",
       "  <tbody>\n",
       "    <tr>\n",
       "      <th>0</th>\n",
       "      <td>2000-01-01</td>\n",
       "      <td>1600000</td>\n",
       "      <td>160000</td>\n",
       "    </tr>\n",
       "    <tr>\n",
       "      <th>1</th>\n",
       "      <td>2000-01-02</td>\n",
       "      <td>800000</td>\n",
       "      <td>180000</td>\n",
       "    </tr>\n",
       "    <tr>\n",
       "      <th>2</th>\n",
       "      <td>2000-01-03</td>\n",
       "      <td>500000</td>\n",
       "      <td>160000</td>\n",
       "    </tr>\n",
       "    <tr>\n",
       "      <th>3</th>\n",
       "      <td>2000-01-04</td>\n",
       "      <td>600000</td>\n",
       "      <td>60000</td>\n",
       "    </tr>\n",
       "    <tr>\n",
       "      <th>4</th>\n",
       "      <td>2000-01-05</td>\n",
       "      <td>1800000</td>\n",
       "      <td>40000</td>\n",
       "    </tr>\n",
       "  </tbody>\n",
       "</table>\n",
       "</div>"
      ],
      "text/plain": [
       "     tanggal    omset  operasional\n",
       "0 2000-01-01  1600000       160000\n",
       "1 2000-01-02   800000       180000\n",
       "2 2000-01-03   500000       160000\n",
       "3 2000-01-04   600000        60000\n",
       "4 2000-01-05  1800000        40000"
      ]
     },
     "execution_count": 5,
     "metadata": {},
     "output_type": "execute_result"
    }
   ],
   "source": [
    "df.index = pd.util.testing.makeDateIndex(n_rows, freq='D')\n",
    "df = df.reset_index()\n",
    "df = df.rename(columns={'index':'tanggal'})\n",
    "df"
   ]
  },
  {
   "cell_type": "markdown",
   "metadata": {},
   "source": [
    "## Melakukan Formatting Tampilan Data Frame"
   ]
  },
  {
   "cell_type": "markdown",
   "metadata": {},
   "source": [
    "- Membuat sebuah dictionary yang terdiri atas pasangan keys dan values yang ditampung oleh *formatku*\n",
    "> formatku = {'tanggal':'{:%d/%m/%y}', 'operasional':'Rp {:.2f}', 'omset':'Rp {:.2f}'} \n",
    "\n",
    "- Untuk melakukan formatting, kita bisa memulai dengan menggunakan kurung kurawal {}.\n",
    "- *.2f* untuk menampilak dua digit extra dibelakang koma\n",
    "\n",
    "- Untuk menerapkan formatting, kita dapat memanggil *format()*\n",
    "> laporan = df.style.format(formatku)"
   ]
  },
  {
   "cell_type": "code",
   "execution_count": 11,
   "metadata": {},
   "outputs": [
    {
     "data": {
      "text/html": [
       "<style  type=\"text/css\" >\n",
       "</style><table id=\"T_0908b2ee_2fec_11ec_9b91_9822ef4eed73\" ><thead>    <tr>        <th class=\"blank level0\" ></th>        <th class=\"col_heading level0 col0\" >omset</th>        <th class=\"col_heading level0 col1\" >operasional</th>    </tr></thead><tbody>\n",
       "                <tr>\n",
       "                        <th id=\"T_0908b2ee_2fec_11ec_9b91_9822ef4eed73level0_row0\" class=\"row_heading level0 row0\" >0</th>\n",
       "                        <td id=\"T_0908b2ee_2fec_11ec_9b91_9822ef4eed73row0_col0\" class=\"data row0 col0\" >Rp 1300000.00</td>\n",
       "                        <td id=\"T_0908b2ee_2fec_11ec_9b91_9822ef4eed73row0_col1\" class=\"data row0 col1\" >Rp 30000.00</td>\n",
       "            </tr>\n",
       "            <tr>\n",
       "                        <th id=\"T_0908b2ee_2fec_11ec_9b91_9822ef4eed73level0_row1\" class=\"row_heading level0 row1\" >1</th>\n",
       "                        <td id=\"T_0908b2ee_2fec_11ec_9b91_9822ef4eed73row1_col0\" class=\"data row1 col0\" >Rp 300000.00</td>\n",
       "                        <td id=\"T_0908b2ee_2fec_11ec_9b91_9822ef4eed73row1_col1\" class=\"data row1 col1\" >Rp 190000.00</td>\n",
       "            </tr>\n",
       "            <tr>\n",
       "                        <th id=\"T_0908b2ee_2fec_11ec_9b91_9822ef4eed73level0_row2\" class=\"row_heading level0 row2\" >2</th>\n",
       "                        <td id=\"T_0908b2ee_2fec_11ec_9b91_9822ef4eed73row2_col0\" class=\"data row2 col0\" >Rp 400000.00</td>\n",
       "                        <td id=\"T_0908b2ee_2fec_11ec_9b91_9822ef4eed73row2_col1\" class=\"data row2 col1\" >Rp 150000.00</td>\n",
       "            </tr>\n",
       "            <tr>\n",
       "                        <th id=\"T_0908b2ee_2fec_11ec_9b91_9822ef4eed73level0_row3\" class=\"row_heading level0 row3\" >3</th>\n",
       "                        <td id=\"T_0908b2ee_2fec_11ec_9b91_9822ef4eed73row3_col0\" class=\"data row3 col0\" >Rp 1800000.00</td>\n",
       "                        <td id=\"T_0908b2ee_2fec_11ec_9b91_9822ef4eed73row3_col1\" class=\"data row3 col1\" >Rp 100000.00</td>\n",
       "            </tr>\n",
       "            <tr>\n",
       "                        <th id=\"T_0908b2ee_2fec_11ec_9b91_9822ef4eed73level0_row4\" class=\"row_heading level0 row4\" >4</th>\n",
       "                        <td id=\"T_0908b2ee_2fec_11ec_9b91_9822ef4eed73row4_col0\" class=\"data row4 col0\" >Rp 1000000.00</td>\n",
       "                        <td id=\"T_0908b2ee_2fec_11ec_9b91_9822ef4eed73row4_col1\" class=\"data row4 col1\" >Rp 180000.00</td>\n",
       "            </tr>\n",
       "    </tbody></table>"
      ],
      "text/plain": [
       "<pandas.io.formats.style.Styler at 0x216edda0ca0>"
      ]
     },
     "execution_count": 11,
     "metadata": {},
     "output_type": "execute_result"
    }
   ],
   "source": [
    "formatku = {'tanggal':'{:%d/%m/%y}', \n",
    "            'operasional':'Rp {:.2f}',\n",
    "            'omset':'Rp {:.2f}'}\n",
    "\n",
    "laporan = df.style.format(formatku)\n",
    "laporan"
   ]
  },
  {
   "cell_type": "markdown",
   "metadata": {},
   "source": [
    "- Melihat tipe data dari *laporan*"
   ]
  },
  {
   "cell_type": "code",
   "execution_count": 12,
   "metadata": {},
   "outputs": [
    {
     "data": {
      "text/plain": [
       "pandas.io.formats.style.Styler"
      ]
     },
     "execution_count": 12,
     "metadata": {},
     "output_type": "execute_result"
    }
   ],
   "source": [
    "type(laporan)"
   ]
  },
  {
   "cell_type": "markdown",
   "metadata": {},
   "source": [
    "- Menyembunyikan index dari tampilan"
   ]
  },
  {
   "cell_type": "code",
   "execution_count": 8,
   "metadata": {},
   "outputs": [
    {
     "data": {
      "text/html": [
       "<style  type=\"text/css\" >\n",
       "</style><table id=\"T_42f5bc53_2d79_11ec_aa6a_9822ef4eed73\" ><thead>    <tr>        <th class=\"col_heading level0 col0\" >tanggal</th>        <th class=\"col_heading level0 col1\" >omset</th>        <th class=\"col_heading level0 col2\" >operasional</th>    </tr></thead><tbody>\n",
       "                <tr>\n",
       "                                <td id=\"T_42f5bc53_2d79_11ec_aa6a_9822ef4eed73row0_col0\" class=\"data row0 col0\" >01/01/00</td>\n",
       "                        <td id=\"T_42f5bc53_2d79_11ec_aa6a_9822ef4eed73row0_col1\" class=\"data row0 col1\" >Rp 1600000.00</td>\n",
       "                        <td id=\"T_42f5bc53_2d79_11ec_aa6a_9822ef4eed73row0_col2\" class=\"data row0 col2\" >Rp 160000.00</td>\n",
       "            </tr>\n",
       "            <tr>\n",
       "                                <td id=\"T_42f5bc53_2d79_11ec_aa6a_9822ef4eed73row1_col0\" class=\"data row1 col0\" >02/01/00</td>\n",
       "                        <td id=\"T_42f5bc53_2d79_11ec_aa6a_9822ef4eed73row1_col1\" class=\"data row1 col1\" >Rp 800000.00</td>\n",
       "                        <td id=\"T_42f5bc53_2d79_11ec_aa6a_9822ef4eed73row1_col2\" class=\"data row1 col2\" >Rp 180000.00</td>\n",
       "            </tr>\n",
       "            <tr>\n",
       "                                <td id=\"T_42f5bc53_2d79_11ec_aa6a_9822ef4eed73row2_col0\" class=\"data row2 col0\" >03/01/00</td>\n",
       "                        <td id=\"T_42f5bc53_2d79_11ec_aa6a_9822ef4eed73row2_col1\" class=\"data row2 col1\" >Rp 500000.00</td>\n",
       "                        <td id=\"T_42f5bc53_2d79_11ec_aa6a_9822ef4eed73row2_col2\" class=\"data row2 col2\" >Rp 160000.00</td>\n",
       "            </tr>\n",
       "            <tr>\n",
       "                                <td id=\"T_42f5bc53_2d79_11ec_aa6a_9822ef4eed73row3_col0\" class=\"data row3 col0\" >04/01/00</td>\n",
       "                        <td id=\"T_42f5bc53_2d79_11ec_aa6a_9822ef4eed73row3_col1\" class=\"data row3 col1\" >Rp 600000.00</td>\n",
       "                        <td id=\"T_42f5bc53_2d79_11ec_aa6a_9822ef4eed73row3_col2\" class=\"data row3 col2\" >Rp 60000.00</td>\n",
       "            </tr>\n",
       "            <tr>\n",
       "                                <td id=\"T_42f5bc53_2d79_11ec_aa6a_9822ef4eed73row4_col0\" class=\"data row4 col0\" >05/01/00</td>\n",
       "                        <td id=\"T_42f5bc53_2d79_11ec_aa6a_9822ef4eed73row4_col1\" class=\"data row4 col1\" >Rp 1800000.00</td>\n",
       "                        <td id=\"T_42f5bc53_2d79_11ec_aa6a_9822ef4eed73row4_col2\" class=\"data row4 col2\" >Rp 40000.00</td>\n",
       "            </tr>\n",
       "    </tbody></table>"
      ],
      "text/plain": [
       "<pandas.io.formats.style.Styler at 0x2683eda1220>"
      ]
     },
     "execution_count": 8,
     "metadata": {},
     "output_type": "execute_result"
    }
   ],
   "source": [
    "laporan.hide_index()"
   ]
  },
  {
   "cell_type": "markdown",
   "metadata": {},
   "source": [
    "- Menentukan caption atau judul pada *laporan* dengan memanggil *set.caption()* yang disertai oleh parameter yang berisi caption yang ingin ditampilkan."
   ]
  },
  {
   "cell_type": "code",
   "execution_count": 9,
   "metadata": {},
   "outputs": [
    {
     "data": {
      "text/html": [
       "<style  type=\"text/css\" >\n",
       "</style><table id=\"T_431f3160_2d79_11ec_ba83_9822ef4eed73\" ><caption>Data Omset dan Operasional</caption><thead>    <tr>        <th class=\"col_heading level0 col0\" >tanggal</th>        <th class=\"col_heading level0 col1\" >omset</th>        <th class=\"col_heading level0 col2\" >operasional</th>    </tr></thead><tbody>\n",
       "                <tr>\n",
       "                                <td id=\"T_431f3160_2d79_11ec_ba83_9822ef4eed73row0_col0\" class=\"data row0 col0\" >01/01/00</td>\n",
       "                        <td id=\"T_431f3160_2d79_11ec_ba83_9822ef4eed73row0_col1\" class=\"data row0 col1\" >Rp 1600000.00</td>\n",
       "                        <td id=\"T_431f3160_2d79_11ec_ba83_9822ef4eed73row0_col2\" class=\"data row0 col2\" >Rp 160000.00</td>\n",
       "            </tr>\n",
       "            <tr>\n",
       "                                <td id=\"T_431f3160_2d79_11ec_ba83_9822ef4eed73row1_col0\" class=\"data row1 col0\" >02/01/00</td>\n",
       "                        <td id=\"T_431f3160_2d79_11ec_ba83_9822ef4eed73row1_col1\" class=\"data row1 col1\" >Rp 800000.00</td>\n",
       "                        <td id=\"T_431f3160_2d79_11ec_ba83_9822ef4eed73row1_col2\" class=\"data row1 col2\" >Rp 180000.00</td>\n",
       "            </tr>\n",
       "            <tr>\n",
       "                                <td id=\"T_431f3160_2d79_11ec_ba83_9822ef4eed73row2_col0\" class=\"data row2 col0\" >03/01/00</td>\n",
       "                        <td id=\"T_431f3160_2d79_11ec_ba83_9822ef4eed73row2_col1\" class=\"data row2 col1\" >Rp 500000.00</td>\n",
       "                        <td id=\"T_431f3160_2d79_11ec_ba83_9822ef4eed73row2_col2\" class=\"data row2 col2\" >Rp 160000.00</td>\n",
       "            </tr>\n",
       "            <tr>\n",
       "                                <td id=\"T_431f3160_2d79_11ec_ba83_9822ef4eed73row3_col0\" class=\"data row3 col0\" >04/01/00</td>\n",
       "                        <td id=\"T_431f3160_2d79_11ec_ba83_9822ef4eed73row3_col1\" class=\"data row3 col1\" >Rp 600000.00</td>\n",
       "                        <td id=\"T_431f3160_2d79_11ec_ba83_9822ef4eed73row3_col2\" class=\"data row3 col2\" >Rp 60000.00</td>\n",
       "            </tr>\n",
       "            <tr>\n",
       "                                <td id=\"T_431f3160_2d79_11ec_ba83_9822ef4eed73row4_col0\" class=\"data row4 col0\" >05/01/00</td>\n",
       "                        <td id=\"T_431f3160_2d79_11ec_ba83_9822ef4eed73row4_col1\" class=\"data row4 col1\" >Rp 1800000.00</td>\n",
       "                        <td id=\"T_431f3160_2d79_11ec_ba83_9822ef4eed73row4_col2\" class=\"data row4 col2\" >Rp 40000.00</td>\n",
       "            </tr>\n",
       "    </tbody></table>"
      ],
      "text/plain": [
       "<pandas.io.formats.style.Styler at 0x2683eda1220>"
      ]
     },
     "execution_count": 9,
     "metadata": {},
     "output_type": "execute_result"
    }
   ],
   "source": [
    "laporan.set_caption('Data Omset dan Operasional')"
   ]
  },
  {
   "cell_type": "markdown",
   "metadata": {},
   "source": [
    "- Menghighlight nilai minimum dan maksimum dari suatu kolom"
   ]
  },
  {
   "cell_type": "code",
   "execution_count": 10,
   "metadata": {},
   "outputs": [
    {
     "data": {
      "text/html": [
       "<style  type=\"text/css\" >\n",
       "    #T_4809dd46_2d79_11ec_87e3_9822ef4eed73row1_col2 {\n",
       "            : ;\n",
       "            background-color:  grey;\n",
       "        }    #T_4809dd46_2d79_11ec_87e3_9822ef4eed73row2_col1 {\n",
       "            background-color:  pink;\n",
       "            : ;\n",
       "        }    #T_4809dd46_2d79_11ec_87e3_9822ef4eed73row4_col1 {\n",
       "            : ;\n",
       "            background-color:  lightgreen;\n",
       "        }    #T_4809dd46_2d79_11ec_87e3_9822ef4eed73row4_col2 {\n",
       "            background-color:  lightblue;\n",
       "            : ;\n",
       "        }</style><table id=\"T_4809dd46_2d79_11ec_87e3_9822ef4eed73\" ><caption>Data Omset dan Operasional</caption><thead>    <tr>        <th class=\"col_heading level0 col0\" >tanggal</th>        <th class=\"col_heading level0 col1\" >omset</th>        <th class=\"col_heading level0 col2\" >operasional</th>    </tr></thead><tbody>\n",
       "                <tr>\n",
       "                                <td id=\"T_4809dd46_2d79_11ec_87e3_9822ef4eed73row0_col0\" class=\"data row0 col0\" >01/01/00</td>\n",
       "                        <td id=\"T_4809dd46_2d79_11ec_87e3_9822ef4eed73row0_col1\" class=\"data row0 col1\" >Rp 1600000.00</td>\n",
       "                        <td id=\"T_4809dd46_2d79_11ec_87e3_9822ef4eed73row0_col2\" class=\"data row0 col2\" >Rp 160000.00</td>\n",
       "            </tr>\n",
       "            <tr>\n",
       "                                <td id=\"T_4809dd46_2d79_11ec_87e3_9822ef4eed73row1_col0\" class=\"data row1 col0\" >02/01/00</td>\n",
       "                        <td id=\"T_4809dd46_2d79_11ec_87e3_9822ef4eed73row1_col1\" class=\"data row1 col1\" >Rp 800000.00</td>\n",
       "                        <td id=\"T_4809dd46_2d79_11ec_87e3_9822ef4eed73row1_col2\" class=\"data row1 col2\" >Rp 180000.00</td>\n",
       "            </tr>\n",
       "            <tr>\n",
       "                                <td id=\"T_4809dd46_2d79_11ec_87e3_9822ef4eed73row2_col0\" class=\"data row2 col0\" >03/01/00</td>\n",
       "                        <td id=\"T_4809dd46_2d79_11ec_87e3_9822ef4eed73row2_col1\" class=\"data row2 col1\" >Rp 500000.00</td>\n",
       "                        <td id=\"T_4809dd46_2d79_11ec_87e3_9822ef4eed73row2_col2\" class=\"data row2 col2\" >Rp 160000.00</td>\n",
       "            </tr>\n",
       "            <tr>\n",
       "                                <td id=\"T_4809dd46_2d79_11ec_87e3_9822ef4eed73row3_col0\" class=\"data row3 col0\" >04/01/00</td>\n",
       "                        <td id=\"T_4809dd46_2d79_11ec_87e3_9822ef4eed73row3_col1\" class=\"data row3 col1\" >Rp 600000.00</td>\n",
       "                        <td id=\"T_4809dd46_2d79_11ec_87e3_9822ef4eed73row3_col2\" class=\"data row3 col2\" >Rp 60000.00</td>\n",
       "            </tr>\n",
       "            <tr>\n",
       "                                <td id=\"T_4809dd46_2d79_11ec_87e3_9822ef4eed73row4_col0\" class=\"data row4 col0\" >05/01/00</td>\n",
       "                        <td id=\"T_4809dd46_2d79_11ec_87e3_9822ef4eed73row4_col1\" class=\"data row4 col1\" >Rp 1800000.00</td>\n",
       "                        <td id=\"T_4809dd46_2d79_11ec_87e3_9822ef4eed73row4_col2\" class=\"data row4 col2\" >Rp 40000.00</td>\n",
       "            </tr>\n",
       "    </tbody></table>"
      ],
      "text/plain": [
       "<pandas.io.formats.style.Styler at 0x2683eda1220>"
      ]
     },
     "execution_count": 10,
     "metadata": {},
     "output_type": "execute_result"
    }
   ],
   "source": [
    "laporan.highlight_min('omset', color='pink')\n",
    "laporan.highlight_max('omset', color='lightgreen')\n",
    "\n",
    "laporan.highlight_min('operasional', color='lightblue')\n",
    "laporan.highlight_max('operasional', color='grey')"
   ]
  }
 ],
 "metadata": {
  "kernelspec": {
   "display_name": "Python 3",
   "language": "python",
   "name": "python3"
  },
  "language_info": {
   "codemirror_mode": {
    "name": "ipython",
    "version": 3
   },
   "file_extension": ".py",
   "mimetype": "text/x-python",
   "name": "python",
   "nbconvert_exporter": "python",
   "pygments_lexer": "ipython3",
   "version": "3.8.3"
  }
 },
 "nbformat": 4,
 "nbformat_minor": 4
}
