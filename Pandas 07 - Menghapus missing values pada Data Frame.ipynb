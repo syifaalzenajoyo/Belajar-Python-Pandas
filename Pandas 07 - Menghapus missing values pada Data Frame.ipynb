{
 "cells": [
  {
   "cell_type": "markdown",
   "metadata": {},
   "source": [
    "# 07 - Menghapus (Drop) Missing Values (NaN) pada Data Frame"
   ]
  },
  {
   "cell_type": "markdown",
   "metadata": {},
   "source": [
    "#Import Modules\n",
    "\n",
    "Module yang digunakan :\n",
    "1. pandas"
   ]
  },
  {
   "cell_type": "code",
   "execution_count": 1,
   "metadata": {},
   "outputs": [],
   "source": [
    "import pandas as pd"
   ]
  },
  {
   "cell_type": "markdown",
   "metadata": {},
   "source": [
    "-Mengecheck versi dari module yang digunakan yaitu pandas."
   ]
  },
  {
   "cell_type": "code",
   "execution_count": 3,
   "metadata": {},
   "outputs": [
    {
     "name": "stdout",
     "output_type": "stream",
     "text": [
      "1.0.5\n"
     ]
    }
   ],
   "source": [
    "print(pd.__version__)"
   ]
  },
  {
   "cell_type": "markdown",
   "metadata": {},
   "source": [
    "#Membuat Sebuah Data Frame yang Mengandung Missing Value\n",
    "\n",
    "Untuk membuat sebuah data frame yang mengandung missing value, kita dapat memanfaatkan sebuah module yaitu pd.util.testing.makeMissingDataframe()\n",
    "\n",
    "Method reset_index() digunakan untuk membentuk index baru. Index lamanya akan diadopsi sebagai sebuah kolom biasa.\n",
    "\n",
    "Function df.head() akan menampilkan hanya 5 data pertama."
   ]
  },
  {
   "cell_type": "code",
   "execution_count": 4,
   "metadata": {},
   "outputs": [
    {
     "name": "stderr",
     "output_type": "stream",
     "text": [
      "C:\\Users\\ASUS\\anaconda3\\lib\\site-packages\\pandas\\util\\__init__.py:12: FutureWarning: pandas.util.testing is deprecated. Use the functions in the public API at pandas.testing instead.\n",
      "  import pandas.util.testing\n"
     ]
    },
    {
     "data": {
      "text/html": [
       "<div>\n",
       "<style scoped>\n",
       "    .dataframe tbody tr th:only-of-type {\n",
       "        vertical-align: middle;\n",
       "    }\n",
       "\n",
       "    .dataframe tbody tr th {\n",
       "        vertical-align: top;\n",
       "    }\n",
       "\n",
       "    .dataframe thead th {\n",
       "        text-align: right;\n",
       "    }\n",
       "</style>\n",
       "<table border=\"1\" class=\"dataframe\">\n",
       "  <thead>\n",
       "    <tr style=\"text-align: right;\">\n",
       "      <th></th>\n",
       "      <th>index</th>\n",
       "      <th>A</th>\n",
       "      <th>B</th>\n",
       "      <th>C</th>\n",
       "      <th>D</th>\n",
       "    </tr>\n",
       "  </thead>\n",
       "  <tbody>\n",
       "    <tr>\n",
       "      <th>0</th>\n",
       "      <td>ZialyBgy68</td>\n",
       "      <td>-0.109448</td>\n",
       "      <td>0.641628</td>\n",
       "      <td>-0.465871</td>\n",
       "      <td>1.928671</td>\n",
       "    </tr>\n",
       "    <tr>\n",
       "      <th>1</th>\n",
       "      <td>brvUCwu89V</td>\n",
       "      <td>0.773227</td>\n",
       "      <td>-0.670162</td>\n",
       "      <td>-0.456000</td>\n",
       "      <td>-0.040757</td>\n",
       "    </tr>\n",
       "    <tr>\n",
       "      <th>2</th>\n",
       "      <td>JMIV7FnBsu</td>\n",
       "      <td>-0.458238</td>\n",
       "      <td>1.290403</td>\n",
       "      <td>1.426894</td>\n",
       "      <td>NaN</td>\n",
       "    </tr>\n",
       "    <tr>\n",
       "      <th>3</th>\n",
       "      <td>KfK0GGW6gp</td>\n",
       "      <td>1.130287</td>\n",
       "      <td>0.187093</td>\n",
       "      <td>0.367217</td>\n",
       "      <td>-0.963102</td>\n",
       "    </tr>\n",
       "    <tr>\n",
       "      <th>4</th>\n",
       "      <td>CqBziRP7oF</td>\n",
       "      <td>NaN</td>\n",
       "      <td>-0.769784</td>\n",
       "      <td>-1.524139</td>\n",
       "      <td>1.425866</td>\n",
       "    </tr>\n",
       "  </tbody>\n",
       "</table>\n",
       "</div>"
      ],
      "text/plain": [
       "        index         A         B         C         D\n",
       "0  ZialyBgy68 -0.109448  0.641628 -0.465871  1.928671\n",
       "1  brvUCwu89V  0.773227 -0.670162 -0.456000 -0.040757\n",
       "2  JMIV7FnBsu -0.458238  1.290403  1.426894       NaN\n",
       "3  KfK0GGW6gp  1.130287  0.187093  0.367217 -0.963102\n",
       "4  CqBziRP7oF       NaN -0.769784 -1.524139  1.425866"
      ]
     },
     "execution_count": 4,
     "metadata": {},
     "output_type": "execute_result"
    }
   ],
   "source": [
    "df = pd.util.testing.makeMissingDataframe().reset_index()\n",
    "df.head()"
   ]
  },
  {
   "cell_type": "markdown",
   "metadata": {},
   "source": [
    "#Mengubah nama kolom 'index' menjadi 'Z'\n",
    "\n",
    "Untuk mengubah nama kolom, kita dapat menggunakan function rename() dengan parameter berupa columns yang berisikan dictionary."
   ]
  },
  {
   "cell_type": "code",
   "execution_count": 5,
   "metadata": {
    "scrolled": true
   },
   "outputs": [
    {
     "data": {
      "text/html": [
       "<div>\n",
       "<style scoped>\n",
       "    .dataframe tbody tr th:only-of-type {\n",
       "        vertical-align: middle;\n",
       "    }\n",
       "\n",
       "    .dataframe tbody tr th {\n",
       "        vertical-align: top;\n",
       "    }\n",
       "\n",
       "    .dataframe thead th {\n",
       "        text-align: right;\n",
       "    }\n",
       "</style>\n",
       "<table border=\"1\" class=\"dataframe\">\n",
       "  <thead>\n",
       "    <tr style=\"text-align: right;\">\n",
       "      <th></th>\n",
       "      <th>Z</th>\n",
       "      <th>A</th>\n",
       "      <th>B</th>\n",
       "      <th>C</th>\n",
       "      <th>D</th>\n",
       "    </tr>\n",
       "  </thead>\n",
       "  <tbody>\n",
       "    <tr>\n",
       "      <th>0</th>\n",
       "      <td>ZialyBgy68</td>\n",
       "      <td>-0.109448</td>\n",
       "      <td>0.641628</td>\n",
       "      <td>-0.465871</td>\n",
       "      <td>1.928671</td>\n",
       "    </tr>\n",
       "    <tr>\n",
       "      <th>1</th>\n",
       "      <td>brvUCwu89V</td>\n",
       "      <td>0.773227</td>\n",
       "      <td>-0.670162</td>\n",
       "      <td>-0.456000</td>\n",
       "      <td>-0.040757</td>\n",
       "    </tr>\n",
       "    <tr>\n",
       "      <th>2</th>\n",
       "      <td>JMIV7FnBsu</td>\n",
       "      <td>-0.458238</td>\n",
       "      <td>1.290403</td>\n",
       "      <td>1.426894</td>\n",
       "      <td>NaN</td>\n",
       "    </tr>\n",
       "    <tr>\n",
       "      <th>3</th>\n",
       "      <td>KfK0GGW6gp</td>\n",
       "      <td>1.130287</td>\n",
       "      <td>0.187093</td>\n",
       "      <td>0.367217</td>\n",
       "      <td>-0.963102</td>\n",
       "    </tr>\n",
       "    <tr>\n",
       "      <th>4</th>\n",
       "      <td>CqBziRP7oF</td>\n",
       "      <td>NaN</td>\n",
       "      <td>-0.769784</td>\n",
       "      <td>-1.524139</td>\n",
       "      <td>1.425866</td>\n",
       "    </tr>\n",
       "  </tbody>\n",
       "</table>\n",
       "</div>"
      ],
      "text/plain": [
       "            Z         A         B         C         D\n",
       "0  ZialyBgy68 -0.109448  0.641628 -0.465871  1.928671\n",
       "1  brvUCwu89V  0.773227 -0.670162 -0.456000 -0.040757\n",
       "2  JMIV7FnBsu -0.458238  1.290403  1.426894       NaN\n",
       "3  KfK0GGW6gp  1.130287  0.187093  0.367217 -0.963102\n",
       "4  CqBziRP7oF       NaN -0.769784 -1.524139  1.425866"
      ]
     },
     "execution_count": 5,
     "metadata": {},
     "output_type": "execute_result"
    }
   ],
   "source": [
    "df = df.rename(columns={'index':'Z'})\n",
    "df.head()"
   ]
  },
  {
   "cell_type": "markdown",
   "metadata": {},
   "source": [
    "#Membuat copy dari data frame\n",
    "\n",
    "Berikut ini kita akan melakukan copy dari data frame dan hasil copynya akan disimpan di variabel df_backup. Proses pengcopyan yang dilakukan adalah deep copy dengan parameternya yang bernilai True."
   ]
  },
  {
   "cell_type": "code",
   "execution_count": 6,
   "metadata": {},
   "outputs": [],
   "source": [
    "df_backup = df.copy(deep=True)"
   ]
  },
  {
   "cell_type": "markdown",
   "metadata": {},
   "source": [
    "#Menghapus (Drop) Setiap Kolom yang Mengandung Missing Values.\n",
    "\n",
    "Jika terdapat missing values pada suatu kolom, kolom tersebut akan dihapus.\n",
    "\n",
    "Untuk menghapus kolom yang mengandung missing values, kita dapat memanggil df.dropna(axis='columns')."
   ]
  },
  {
   "cell_type": "code",
   "execution_count": 6,
   "metadata": {},
   "outputs": [
    {
     "data": {
      "text/html": [
       "<div>\n",
       "<style scoped>\n",
       "    .dataframe tbody tr th:only-of-type {\n",
       "        vertical-align: middle;\n",
       "    }\n",
       "\n",
       "    .dataframe tbody tr th {\n",
       "        vertical-align: top;\n",
       "    }\n",
       "\n",
       "    .dataframe thead th {\n",
       "        text-align: right;\n",
       "    }\n",
       "</style>\n",
       "<table border=\"1\" class=\"dataframe\">\n",
       "  <thead>\n",
       "    <tr style=\"text-align: right;\">\n",
       "      <th></th>\n",
       "      <th>Z</th>\n",
       "    </tr>\n",
       "  </thead>\n",
       "  <tbody>\n",
       "    <tr>\n",
       "      <th>0</th>\n",
       "      <td>79VcvKJ0qO</td>\n",
       "    </tr>\n",
       "    <tr>\n",
       "      <th>1</th>\n",
       "      <td>XuhQaHx1RN</td>\n",
       "    </tr>\n",
       "    <tr>\n",
       "      <th>2</th>\n",
       "      <td>Of7Zm2hkCV</td>\n",
       "    </tr>\n",
       "    <tr>\n",
       "      <th>3</th>\n",
       "      <td>f1tsahLNPe</td>\n",
       "    </tr>\n",
       "    <tr>\n",
       "      <th>4</th>\n",
       "      <td>H8vq6zm06Y</td>\n",
       "    </tr>\n",
       "  </tbody>\n",
       "</table>\n",
       "</div>"
      ],
      "text/plain": [
       "            Z\n",
       "0  79VcvKJ0qO\n",
       "1  XuhQaHx1RN\n",
       "2  Of7Zm2hkCV\n",
       "3  f1tsahLNPe\n",
       "4  H8vq6zm06Y"
      ]
     },
     "execution_count": 6,
     "metadata": {},
     "output_type": "execute_result"
    }
   ],
   "source": [
    "df = df.dropna(axis='columns') \n",
    "df.head()"
   ]
  },
  {
   "cell_type": "markdown",
   "metadata": {},
   "source": [
    "#Menghapus (Drop) Setiap Baris yang Mengandung Missing Values.\n",
    "\n",
    "Jika terdapat missing values pada suatu baris, baris tersebut akan dihapus.\n",
    "\n",
    "Sebelumnya kita perlu untuk mengembalikan kondisi data frame, dengan memanggil df_backup.copy(deep=True).\n",
    "\n",
    "Untuk menghapus baris yang mengandung missing values, kita dapat memanggil df.dropna(axis='rows')."
   ]
  },
  {
   "cell_type": "code",
   "execution_count": 7,
   "metadata": {},
   "outputs": [
    {
     "data": {
      "text/html": [
       "<div>\n",
       "<style scoped>\n",
       "    .dataframe tbody tr th:only-of-type {\n",
       "        vertical-align: middle;\n",
       "    }\n",
       "\n",
       "    .dataframe tbody tr th {\n",
       "        vertical-align: top;\n",
       "    }\n",
       "\n",
       "    .dataframe thead th {\n",
       "        text-align: right;\n",
       "    }\n",
       "</style>\n",
       "<table border=\"1\" class=\"dataframe\">\n",
       "  <thead>\n",
       "    <tr style=\"text-align: right;\">\n",
       "      <th></th>\n",
       "      <th>Z</th>\n",
       "      <th>A</th>\n",
       "      <th>B</th>\n",
       "      <th>C</th>\n",
       "      <th>D</th>\n",
       "    </tr>\n",
       "  </thead>\n",
       "  <tbody>\n",
       "    <tr>\n",
       "      <th>0</th>\n",
       "      <td>ZialyBgy68</td>\n",
       "      <td>-0.109448</td>\n",
       "      <td>0.641628</td>\n",
       "      <td>-0.465871</td>\n",
       "      <td>1.928671</td>\n",
       "    </tr>\n",
       "    <tr>\n",
       "      <th>1</th>\n",
       "      <td>brvUCwu89V</td>\n",
       "      <td>0.773227</td>\n",
       "      <td>-0.670162</td>\n",
       "      <td>-0.456000</td>\n",
       "      <td>-0.040757</td>\n",
       "    </tr>\n",
       "    <tr>\n",
       "      <th>3</th>\n",
       "      <td>KfK0GGW6gp</td>\n",
       "      <td>1.130287</td>\n",
       "      <td>0.187093</td>\n",
       "      <td>0.367217</td>\n",
       "      <td>-0.963102</td>\n",
       "    </tr>\n",
       "    <tr>\n",
       "      <th>5</th>\n",
       "      <td>0E4oSdzROn</td>\n",
       "      <td>-0.148424</td>\n",
       "      <td>-0.350913</td>\n",
       "      <td>-0.292705</td>\n",
       "      <td>0.525516</td>\n",
       "    </tr>\n",
       "    <tr>\n",
       "      <th>7</th>\n",
       "      <td>uzVur8WnOD</td>\n",
       "      <td>-1.635556</td>\n",
       "      <td>0.621451</td>\n",
       "      <td>0.741574</td>\n",
       "      <td>0.563051</td>\n",
       "    </tr>\n",
       "  </tbody>\n",
       "</table>\n",
       "</div>"
      ],
      "text/plain": [
       "            Z         A         B         C         D\n",
       "0  ZialyBgy68 -0.109448  0.641628 -0.465871  1.928671\n",
       "1  brvUCwu89V  0.773227 -0.670162 -0.456000 -0.040757\n",
       "3  KfK0GGW6gp  1.130287  0.187093  0.367217 -0.963102\n",
       "5  0E4oSdzROn -0.148424 -0.350913 -0.292705  0.525516\n",
       "7  uzVur8WnOD -1.635556  0.621451  0.741574  0.563051"
      ]
     },
     "execution_count": 7,
     "metadata": {},
     "output_type": "execute_result"
    }
   ],
   "source": [
    "df = df_backup.copy(deep=True)\n",
    "df = df.dropna(axis='rows')\n",
    "df.head()"
   ]
  }
 ],
 "metadata": {
  "kernelspec": {
   "display_name": "Python 3",
   "language": "python",
   "name": "python3"
  },
  "language_info": {
   "codemirror_mode": {
    "name": "ipython",
    "version": 3
   },
   "file_extension": ".py",
   "mimetype": "text/x-python",
   "name": "python",
   "nbconvert_exporter": "python",
   "pygments_lexer": "ipython3",
   "version": "3.8.3"
  }
 },
 "nbformat": 4,
 "nbformat_minor": 4
}
