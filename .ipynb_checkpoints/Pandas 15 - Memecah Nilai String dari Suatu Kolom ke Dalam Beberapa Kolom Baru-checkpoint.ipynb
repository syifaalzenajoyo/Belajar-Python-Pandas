{
 "cells": [
  {
   "cell_type": "markdown",
   "metadata": {},
   "source": [
    "# 15 - Memecah Nilai String dari Suatu Kolom ke Dalam Beberapa Kolom Baru"
   ]
  },
  {
   "cell_type": "markdown",
   "metadata": {},
   "source": [
    "# Import Modules\n",
    "\n",
    "Module yang digunakan :\n",
    "1. pandas"
   ]
  },
  {
   "cell_type": "code",
   "execution_count": 2,
   "metadata": {},
   "outputs": [],
   "source": [
    "import pandas as pd"
   ]
  },
  {
   "cell_type": "markdown",
   "metadata": {},
   "source": [
    "- Mengecheck versi dari module yang digunakan yaitu pandas."
   ]
  },
  {
   "cell_type": "code",
   "execution_count": 3,
   "metadata": {},
   "outputs": [
    {
     "name": "stdout",
     "output_type": "stream",
     "text": [
      "1.0.5\n"
     ]
    }
   ],
   "source": [
    "print(pd.__version__)"
   ]
  },
  {
   "cell_type": "markdown",
   "metadata": {},
   "source": [
    "# Membuat Data Frame\n",
    "\n",
    "- Data frame yang akan dibentuk oleh suatu dictionary *data* yang terdiri dari dua key (*nama* dan *tempat_kelahiran*).\n",
    "\n",
    "- Membuat data frame yang menggunakan dictionary *data* dengan memanggil *pd.DataFrame(data)*"
   ]
  },
  {
   "cell_type": "code",
   "execution_count": 4,
   "metadata": {},
   "outputs": [
    {
     "data": {
      "text/html": [
       "<div>\n",
       "<style scoped>\n",
       "    .dataframe tbody tr th:only-of-type {\n",
       "        vertical-align: middle;\n",
       "    }\n",
       "\n",
       "    .dataframe tbody tr th {\n",
       "        vertical-align: top;\n",
       "    }\n",
       "\n",
       "    .dataframe thead th {\n",
       "        text-align: right;\n",
       "    }\n",
       "</style>\n",
       "<table border=\"1\" class=\"dataframe\">\n",
       "  <thead>\n",
       "    <tr style=\"text-align: right;\">\n",
       "      <th></th>\n",
       "      <th>nama</th>\n",
       "      <th>tempat_kelahiran</th>\n",
       "    </tr>\n",
       "  </thead>\n",
       "  <tbody>\n",
       "    <tr>\n",
       "      <th>0</th>\n",
       "      <td>Didi Kempot</td>\n",
       "      <td>Surakarta, Jawa Tengah</td>\n",
       "    </tr>\n",
       "    <tr>\n",
       "      <th>1</th>\n",
       "      <td>Glenn Fredly</td>\n",
       "      <td>Jakarta, DKI Jakarta</td>\n",
       "    </tr>\n",
       "    <tr>\n",
       "      <th>2</th>\n",
       "      <td>Mbah Surip</td>\n",
       "      <td>Mojokerto, Jawa Timur</td>\n",
       "    </tr>\n",
       "  </tbody>\n",
       "</table>\n",
       "</div>"
      ],
      "text/plain": [
       "           nama        tempat_kelahiran\n",
       "0   Didi Kempot  Surakarta, Jawa Tengah\n",
       "1  Glenn Fredly    Jakarta, DKI Jakarta\n",
       "2    Mbah Surip   Mojokerto, Jawa Timur"
      ]
     },
     "execution_count": 4,
     "metadata": {},
     "output_type": "execute_result"
    }
   ],
   "source": [
    "data = {'nama':['Didi Kempot', 'Glenn Fredly', 'Mbah Surip'], \n",
    "        'tempat_kelahiran':['Surakarta, Jawa Tengah', 'Jakarta, DKI Jakarta', 'Mojokerto, Jawa Timur']}\n",
    "df = pd.DataFrame(data)\n",
    "df"
   ]
  },
  {
   "cell_type": "markdown",
   "metadata": {},
   "source": [
    "# Memecah Nama Depan dan Nama Belakang\n",
    "\n",
    "Misalnya, kita ingin membentuk dua buah kolom baru yang berikan data *nama_depan* dan *nama_belakang*.\n",
    "- Membuat dua kolom baru dengan nama kolomnya yaitu *nama_depan* dan *nama_belakang*\n",
    "> df[['nama_depan', 'nama_belakang']] \n",
    "- *nama_depan* dan *nama_belakang* akan menampung data hasil pemanggilan dari str.split() yang akan memisahkan nama depan dan nama belakang dari kolom *nama* dengan menyertakan karakter spasi ' ' sebagai pemisahnya. Selain itu, disertai pula parameter berupa nilai *expand=True* untuk mengizinkan output berupa multiple column.\n",
    ">df['nama'].str.split(' ', expand=True)"
   ]
  },
  {
   "cell_type": "code",
   "execution_count": 9,
   "metadata": {},
   "outputs": [
    {
     "data": {
      "text/html": [
       "<div>\n",
       "<style scoped>\n",
       "    .dataframe tbody tr th:only-of-type {\n",
       "        vertical-align: middle;\n",
       "    }\n",
       "\n",
       "    .dataframe tbody tr th {\n",
       "        vertical-align: top;\n",
       "    }\n",
       "\n",
       "    .dataframe thead th {\n",
       "        text-align: right;\n",
       "    }\n",
       "</style>\n",
       "<table border=\"1\" class=\"dataframe\">\n",
       "  <thead>\n",
       "    <tr style=\"text-align: right;\">\n",
       "      <th></th>\n",
       "      <th>nama</th>\n",
       "      <th>tempat_kelahiran</th>\n",
       "      <th>nama_depan</th>\n",
       "      <th>nama_belakang</th>\n",
       "      <th>kota</th>\n",
       "      <th>provinsi</th>\n",
       "    </tr>\n",
       "  </thead>\n",
       "  <tbody>\n",
       "    <tr>\n",
       "      <th>0</th>\n",
       "      <td>Didi Kempot</td>\n",
       "      <td>Surakarta, Jawa Tengah</td>\n",
       "      <td>Didi</td>\n",
       "      <td>Kempot</td>\n",
       "      <td>Surakarta</td>\n",
       "      <td>Jawa Tengah</td>\n",
       "    </tr>\n",
       "    <tr>\n",
       "      <th>1</th>\n",
       "      <td>Glenn Fredly</td>\n",
       "      <td>Jakarta, DKI Jakarta</td>\n",
       "      <td>Glenn</td>\n",
       "      <td>Fredly</td>\n",
       "      <td>Jakarta</td>\n",
       "      <td>DKI Jakarta</td>\n",
       "    </tr>\n",
       "    <tr>\n",
       "      <th>2</th>\n",
       "      <td>Mbah Surip</td>\n",
       "      <td>Mojokerto, Jawa Timur</td>\n",
       "      <td>Mbah</td>\n",
       "      <td>Surip</td>\n",
       "      <td>Mojokerto</td>\n",
       "      <td>Jawa Timur</td>\n",
       "    </tr>\n",
       "  </tbody>\n",
       "</table>\n",
       "</div>"
      ],
      "text/plain": [
       "           nama        tempat_kelahiran nama_depan nama_belakang       kota  \\\n",
       "0   Didi Kempot  Surakarta, Jawa Tengah       Didi        Kempot  Surakarta   \n",
       "1  Glenn Fredly    Jakarta, DKI Jakarta      Glenn        Fredly    Jakarta   \n",
       "2    Mbah Surip   Mojokerto, Jawa Timur       Mbah         Surip  Mojokerto   \n",
       "\n",
       "       provinsi  \n",
       "0   Jawa Tengah  \n",
       "1   DKI Jakarta  \n",
       "2    Jawa Timur  "
      ]
     },
     "execution_count": 9,
     "metadata": {},
     "output_type": "execute_result"
    }
   ],
   "source": [
    "df[['nama_depan', 'nama_belakang']] = df['nama'].str.split(' ', expand=True)\n",
    "df"
   ]
  },
  {
   "cell_type": "markdown",
   "metadata": {},
   "source": [
    "# Memecah Kota dan Provinsi Dari Tempat Kelahiran\n",
    "\n",
    "Misalnya, kita ingin membentuk dua buah kolom baru yang berikan data *kota* dan *provinsi*.\n",
    "- Membuat dua kolom baru dengan nama kolomnya yaitu *kolom* dan *provinsi*\n",
    "> df[['kota', 'provinsi']]\n",
    "- *kota* dan *provinsi* akan menampung data hasil pemanggilan dari str.split() yang akan memisahkan kota dan provinsi dari tempat kelahiran dengan menyertakan parameter karakter koma ',' sebagai pemisahnya. Selain itu, disertai pula parameter berupa nilai *expand=True* untuk mengizinkan output berupa multiple column.\n",
    ">df['tempat_kelahiran'].str.split(',', expand=True)"
   ]
  },
  {
   "cell_type": "code",
   "execution_count": 8,
   "metadata": {},
   "outputs": [
    {
     "data": {
      "text/html": [
       "<div>\n",
       "<style scoped>\n",
       "    .dataframe tbody tr th:only-of-type {\n",
       "        vertical-align: middle;\n",
       "    }\n",
       "\n",
       "    .dataframe tbody tr th {\n",
       "        vertical-align: top;\n",
       "    }\n",
       "\n",
       "    .dataframe thead th {\n",
       "        text-align: right;\n",
       "    }\n",
       "</style>\n",
       "<table border=\"1\" class=\"dataframe\">\n",
       "  <thead>\n",
       "    <tr style=\"text-align: right;\">\n",
       "      <th></th>\n",
       "      <th>nama</th>\n",
       "      <th>tempat_kelahiran</th>\n",
       "      <th>nama_depan</th>\n",
       "      <th>nama_belakang</th>\n",
       "      <th>kota</th>\n",
       "      <th>provinsi</th>\n",
       "    </tr>\n",
       "  </thead>\n",
       "  <tbody>\n",
       "    <tr>\n",
       "      <th>0</th>\n",
       "      <td>Didi Kempot</td>\n",
       "      <td>Surakarta, Jawa Tengah</td>\n",
       "      <td>Didi</td>\n",
       "      <td>Kempot</td>\n",
       "      <td>Surakarta</td>\n",
       "      <td>Jawa Tengah</td>\n",
       "    </tr>\n",
       "    <tr>\n",
       "      <th>1</th>\n",
       "      <td>Glenn Fredly</td>\n",
       "      <td>Jakarta, DKI Jakarta</td>\n",
       "      <td>Glenn</td>\n",
       "      <td>Fredly</td>\n",
       "      <td>Jakarta</td>\n",
       "      <td>DKI Jakarta</td>\n",
       "    </tr>\n",
       "    <tr>\n",
       "      <th>2</th>\n",
       "      <td>Mbah Surip</td>\n",
       "      <td>Mojokerto, Jawa Timur</td>\n",
       "      <td>Mbah</td>\n",
       "      <td>Surip</td>\n",
       "      <td>Mojokerto</td>\n",
       "      <td>Jawa Timur</td>\n",
       "    </tr>\n",
       "  </tbody>\n",
       "</table>\n",
       "</div>"
      ],
      "text/plain": [
       "           nama        tempat_kelahiran nama_depan nama_belakang       kota  \\\n",
       "0   Didi Kempot  Surakarta, Jawa Tengah       Didi        Kempot  Surakarta   \n",
       "1  Glenn Fredly    Jakarta, DKI Jakarta      Glenn        Fredly    Jakarta   \n",
       "2    Mbah Surip   Mojokerto, Jawa Timur       Mbah         Surip  Mojokerto   \n",
       "\n",
       "       provinsi  \n",
       "0   Jawa Tengah  \n",
       "1   DKI Jakarta  \n",
       "2    Jawa Timur  "
      ]
     },
     "execution_count": 8,
     "metadata": {},
     "output_type": "execute_result"
    }
   ],
   "source": [
    "df[['kota', 'provinsi']] = df['tempat_kelahiran'].str.split(',', expand=True)\n",
    "df"
   ]
  }
 ],
 "metadata": {
  "kernelspec": {
   "display_name": "Python 3",
   "language": "python",
   "name": "python3"
  },
  "language_info": {
   "codemirror_mode": {
    "name": "ipython",
    "version": 3
   },
   "file_extension": ".py",
   "mimetype": "text/x-python",
   "name": "python",
   "nbconvert_exporter": "python",
   "pygments_lexer": "ipython3",
   "version": "3.8.3"
  }
 },
 "nbformat": 4,
 "nbformat_minor": 4
}
